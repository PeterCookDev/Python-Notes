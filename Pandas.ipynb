{
 "cells": [
  {
   "cell_type": "markdown",
   "metadata": {},
   "source": [
    "## Pandas"
   ]
  },
  {
   "cell_type": "code",
   "execution_count": 20,
   "metadata": {
    "collapsed": true
   },
   "outputs": [],
   "source": [
    "import pandas as pd\n",
    "import numpy as np"
   ]
  },
  {
   "cell_type": "markdown",
   "metadata": {},
   "source": [
    "## Series\n",
    "\n",
    "- One dimensional sequence\n",
    "- Internally is composed of 2 array (1 for data, 1 for index)\n"
   ]
  },
  {
   "cell_type": "code",
   "execution_count": 21,
   "metadata": {
    "collapsed": false
   },
   "outputs": [
    {
     "name": "stdout",
     "output_type": "stream",
     "text": [
      "0    5\n",
      "1    6\n",
      "2    2\n",
      "3    1\n",
      "dtype: int64\n"
     ]
    }
   ],
   "source": [
    "series = pd.Series([5,6,2,1])\n",
    "print(series)"
   ]
  },
  {
   "cell_type": "code",
   "execution_count": 22,
   "metadata": {
    "collapsed": false
   },
   "outputs": [
    {
     "name": "stdout",
     "output_type": "stream",
     "text": [
      "first     5\n",
      "second    6\n",
      "third     6\n",
      "fourth    8\n",
      "dtype: int64\n",
      "Values  [5 6 6 8]\n",
      "Index  Index(['first', 'second', 'third', 'fourth'], dtype='object')\n",
      "Slice/Filter by index  first    5\n",
      "third    6\n",
      "dtype: int64\n"
     ]
    }
   ],
   "source": [
    "series = pd.Series([5,6,6,8], index=['first','second','third','fourth'])\n",
    "print(series)\n",
    "print('Values ',series.values)\n",
    "print('Index ',series.index)\n",
    "print('Slice/Filter by index ',series[['first','third']])"
   ]
  },
  {
   "cell_type": "code",
   "execution_count": 23,
   "metadata": {
    "collapsed": false
   },
   "outputs": [
    {
     "name": "stdout",
     "output_type": "stream",
     "text": [
      "first     10\n",
      "second     6\n",
      "third      6\n",
      "fourth     8\n",
      "dtype: int64\n",
      "Series > 6 first     10\n",
      "fourth     8\n",
      "dtype: int64\n"
     ]
    }
   ],
   "source": [
    "series['first'] = 10\n",
    "print(series)\n",
    "print('Series > 6', series[series > 6])"
   ]
  },
  {
   "cell_type": "markdown",
   "metadata": {},
   "source": [
    "**Counts of values**"
   ]
  },
  {
   "cell_type": "code",
   "execution_count": 40,
   "metadata": {
    "collapsed": false
   },
   "outputs": [
    {
     "data": {
      "text/plain": [
       "6     2\n",
       "10    1\n",
       "8     1\n",
       "dtype: int64"
      ]
     },
     "execution_count": 40,
     "metadata": {},
     "output_type": "execute_result"
    }
   ],
   "source": [
    "series.value_counts()"
   ]
  },
  {
   "cell_type": "markdown",
   "metadata": {},
   "source": [
    "**Adding series to other series**\n",
    "- Item with the same index values get added to each other.\n",
    "- Other values get set to NaN"
   ]
  },
  {
   "cell_type": "code",
   "execution_count": 25,
   "metadata": {
    "collapsed": false
   },
   "outputs": [
    {
     "name": "stdout",
     "output_type": "stream",
     "text": [
      "fifth      NaN\n",
      "first     11.0\n",
      "fourth     NaN\n",
      "second     8.0\n",
      "third      9.0\n",
      "dtype: float64\n"
     ]
    }
   ],
   "source": [
    "series2 = pd.Series([1,2,3,4], index=['first','second','third','fifth'])\n",
    "print(series + series2)"
   ]
  },
  {
   "cell_type": "markdown",
   "metadata": {},
   "source": [
    "## Dataframe\n",
    "\n",
    "**Basic Frame Operations**"
   ]
  },
  {
   "cell_type": "code",
   "execution_count": 33,
   "metadata": {
    "collapsed": false
   },
   "outputs": [
    {
     "name": "stdout",
     "output_type": "stream",
     "text": [
      "   colour  quantity  thing  weight\n",
      "0  yellow         1  plant    2.10\n",
      "1     red         7     tv    2.40\n",
      "2    blue         3  chair    1.60\n",
      "3   white         4  table    1.00\n",
      "4   white         2    pot    1.75\n",
      "Index - RangeIndex(start=0, stop=5, step=1)\n",
      "Columns - Index(['colour', 'quantity', 'thing', 'weight'], dtype='object')\n",
      "colour - 0    yellow\n",
      "1       red\n",
      "2      blue\n",
      "3     white\n",
      "4     white\n",
      "Name: colour, dtype: object\n"
     ]
    }
   ],
   "source": [
    "data = {'thing' : ['plant','tv','chair','table','pot'],\n",
    "        'colour' : ['yellow','red','blue','white','white'],\n",
    "        'weight' : [2.1,2.4,1.6,1.0,1.75],\n",
    "         'quantity' : [1,7,3,4,2]}\n",
    "\n",
    "frame = pd.DataFrame(data)\n",
    "print(frame)\n",
    "print('Index -',frame.index)\n",
    "print('Columns -',frame.columns)\n",
    "print('colour -', frame.colour)"
   ]
  },
  {
   "cell_type": "code",
   "execution_count": 35,
   "metadata": {
    "collapsed": false
   },
   "outputs": [
    {
     "name": "stdout",
     "output_type": "stream",
     "text": [
      "head - first 5 rows -    colour  quantity  thing  weight\n",
      "0  yellow         1  plant    2.10\n",
      "1     red         7     tv    2.40\n",
      "2    blue         3  chair    1.60\n",
      "3   white         4  table    1.00\n",
      "4   white         2    pot    1.75\n",
      "tail - last 5 rows -    colour  quantity  thing  weight\n",
      "0  yellow         1  plant    2.10\n",
      "1     red         7     tv    2.40\n",
      "2    blue         3  chair    1.60\n",
      "3   white         4  table    1.00\n",
      "4   white         2    pot    1.75\n"
     ]
    }
   ],
   "source": [
    "print('head - first 5 rows -', frame.head())\n",
    "print('tail - last 5 rows -', frame.tail())"
   ]
  },
  {
   "cell_type": "markdown",
   "metadata": {},
   "source": [
    "**Getting the values of a column/row**"
   ]
  },
  {
   "cell_type": "code",
   "execution_count": 38,
   "metadata": {
    "collapsed": false
   },
   "outputs": [
    {
     "name": "stdout",
     "output_type": "stream",
     "text": [
      "0    yellow\n",
      "1       red\n",
      "2      blue\n",
      "3     white\n",
      "4     white\n",
      "Name: colour, dtype: object\n",
      "1      red\n",
      "2     blue\n",
      "3    white\n",
      "Name: colour, dtype: object\n",
      "1      red\n",
      "2     blue\n",
      "3    white\n",
      "Name: colour, dtype: object\n",
      "   colour  quantity\n",
      "0  yellow         1\n",
      "1     red         7\n",
      "2    blue         3\n",
      "3   white         4\n",
      "4   white         2\n"
     ]
    }
   ],
   "source": [
    "print(frame.colour)\n",
    "print(frame[1:4].colour)\n",
    "print(frame['colour'][1:4])\n",
    "# Select multiple columns from the dataframe\n",
    "print(frame[['colour','quantity']])"
   ]
  },
  {
   "cell_type": "markdown",
   "metadata": {},
   "source": [
    "**Counts of values**"
   ]
  },
  {
   "cell_type": "code",
   "execution_count": 43,
   "metadata": {
    "collapsed": false
   },
   "outputs": [
    {
     "name": "stdout",
     "output_type": "stream",
     "text": [
      "white    2\n",
      "blue     1\n",
      "Name: colour, dtype: int64\n"
     ]
    }
   ],
   "source": [
    "counts = frame['colour'].value_counts()\n",
    "print(counts[:2])"
   ]
  },
  {
   "cell_type": "markdown",
   "metadata": {},
   "source": [
    "**Editing the values in the data frame**"
   ]
  },
  {
   "cell_type": "code",
   "execution_count": 28,
   "metadata": {
    "collapsed": false
   },
   "outputs": [
    {
     "name": "stdout",
     "output_type": "stream",
     "text": [
      "   colour  quantity  thing  weight\n",
      "0  yellow         1  plant    2.10\n",
      "1     red         2     tv    2.40\n",
      "2    blue         3  chair    1.60\n",
      "3   white         4  table    1.00\n",
      "4   white         2    pot    1.75\n"
     ]
    },
    {
     "name": "stderr",
     "output_type": "stream",
     "text": [
      "C:\\Users\\Peter\\Anaconda3\\lib\\site-packages\\ipykernel\\__main__.py:1: SettingWithCopyWarning: \n",
      "A value is trying to be set on a copy of a slice from a DataFrame\n",
      "\n",
      "See the caveats in the documentation: http://pandas.pydata.org/pandas-docs/stable/indexing.html#indexing-view-versus-copy\n",
      "  if __name__ == '__main__':\n"
     ]
    }
   ],
   "source": [
    "frame['quantity'][1] =2\n",
    "print(frame)"
   ]
  },
  {
   "cell_type": "markdown",
   "metadata": {},
   "source": [
    "**Adding columns to the frame**"
   ]
  },
  {
   "cell_type": "code",
   "execution_count": 30,
   "metadata": {
    "collapsed": false
   },
   "outputs": [
    {
     "name": "stdout",
     "output_type": "stream",
     "text": [
      "   colour  quantity  thing  weight size\n",
      "0  yellow         1  plant    2.10    S\n",
      "1     red         2     tv    2.40    S\n",
      "2    blue         3  chair    1.60    L\n",
      "3   white         4  table    1.00    M\n",
      "4   white         2    pot    1.75   XL\n"
     ]
    }
   ],
   "source": [
    "frame['size']=['S','S','L','M','XL']\n",
    "print(frame)"
   ]
  },
  {
   "cell_type": "markdown",
   "metadata": {},
   "source": [
    "**Deleting columns**"
   ]
  },
  {
   "cell_type": "code",
   "execution_count": 31,
   "metadata": {
    "collapsed": false
   },
   "outputs": [
    {
     "name": "stdout",
     "output_type": "stream",
     "text": [
      "   colour  quantity  thing  weight\n",
      "0  yellow         1  plant    2.10\n",
      "1     red         2     tv    2.40\n",
      "2    blue         3  chair    1.60\n",
      "3   white         4  table    1.00\n",
      "4   white         2    pot    1.75\n"
     ]
    }
   ],
   "source": [
    "del frame['size']\n",
    "print(frame)"
   ]
  }
 ],
 "metadata": {
  "anaconda-cloud": {},
  "kernelspec": {
   "display_name": "Python [Root]",
   "language": "python",
   "name": "Python [Root]"
  },
  "language_info": {
   "codemirror_mode": {
    "name": "ipython",
    "version": 3
   },
   "file_extension": ".py",
   "mimetype": "text/x-python",
   "name": "python",
   "nbconvert_exporter": "python",
   "pygments_lexer": "ipython3",
   "version": "3.5.2"
  }
 },
 "nbformat": 4,
 "nbformat_minor": 0
}
