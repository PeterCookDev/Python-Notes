{
 "cells": [
  {
   "cell_type": "markdown",
   "metadata": {},
   "source": [
    "## Pandas"
   ]
  },
  {
   "cell_type": "code",
   "execution_count": 1,
   "metadata": {
    "collapsed": true
   },
   "outputs": [],
   "source": [
    "import pandas as pd\n",
    "import numpy as np"
   ]
  },
  {
   "cell_type": "markdown",
   "metadata": {},
   "source": [
    "## Series\n",
    "\n",
    "- One dimensional sequence\n",
    "- Internally is composed of 2 array (1 for data, 1 for index)\n"
   ]
  },
  {
   "cell_type": "code",
   "execution_count": 4,
   "metadata": {
    "collapsed": false
   },
   "outputs": [
    {
     "name": "stdout",
     "output_type": "stream",
     "text": [
      "0    5\n",
      "1    6\n",
      "2    2\n",
      "3    1\n",
      "dtype: int64\n"
     ]
    }
   ],
   "source": [
    "series = pd.Series([5,6,2,1])\n",
    "print(series)"
   ]
  },
  {
   "cell_type": "code",
   "execution_count": 14,
   "metadata": {
    "collapsed": false
   },
   "outputs": [
    {
     "name": "stdout",
     "output_type": "stream",
     "text": [
      "first     5\n",
      "second    6\n",
      "third     6\n",
      "fourth    8\n",
      "dtype: int64\n",
      "Values  [5 6 6 8]\n",
      "Index  Index(['first', 'second', 'third', 'fourth'], dtype='object')\n",
      "Slice/Filter by index  first    5\n",
      "third    6\n",
      "dtype: int64\n"
     ]
    }
   ],
   "source": [
    "series = pd.Series([5,6,6,8], index=['first','second','third','fourth'])\n",
    "print(series)\n",
    "print('Values ',series.values)\n",
    "print('Index ',series.index)\n",
    "print('Slice/Filter by index ',series[['first','third']])"
   ]
  },
  {
   "cell_type": "code",
   "execution_count": 15,
   "metadata": {
    "collapsed": false
   },
   "outputs": [
    {
     "name": "stdout",
     "output_type": "stream",
     "text": [
      "first     10\n",
      "second     6\n",
      "third      6\n",
      "fourth     8\n",
      "dtype: int64\n",
      "Series > 6 first     10\n",
      "fourth     8\n",
      "dtype: int64\n"
     ]
    }
   ],
   "source": [
    "series['first'] = 10\n",
    "print(series)\n",
    "print('Series > 6', series[series > 6])"
   ]
  },
  {
   "cell_type": "code",
   "execution_count": 16,
   "metadata": {
    "collapsed": false
   },
   "outputs": [
    {
     "data": {
      "text/plain": [
       "6     2\n",
       "10    1\n",
       "8     1\n",
       "dtype: int64"
      ]
     },
     "execution_count": 16,
     "metadata": {},
     "output_type": "execute_result"
    }
   ],
   "source": [
    "series.value_counts()"
   ]
  },
  {
   "cell_type": "code",
   "execution_count": 19,
   "metadata": {
    "collapsed": false
   },
   "outputs": [
    {
     "name": "stdout",
     "output_type": "stream",
     "text": [
      "fifth      NaN\n",
      "first     11.0\n",
      "fourth     NaN\n",
      "second     8.0\n",
      "third      9.0\n",
      "dtype: float64\n"
     ]
    }
   ],
   "source": [
    "series2 = pd.Series([1,2,3,4], index=['first','second','third','fifth'])\n",
    "print(series + series2)"
   ]
  },
  {
   "cell_type": "markdown",
   "metadata": {},
   "source": [
    "## Dataframe"
   ]
  },
  {
   "cell_type": "code",
   "execution_count": 24,
   "metadata": {
    "collapsed": false
   },
   "outputs": [
    {
     "name": "stdout",
     "output_type": "stream",
     "text": [
      "    color  quantity  thing  weight\n",
      "0  yellow         1  plant    2.10\n",
      "1     red         7     tv    2.40\n",
      "2    blue         3  chair    1.60\n",
      "3   white         4  table    1.00\n",
      "4   white         2    pot    1.75\n"
     ]
    }
   ],
   "source": [
    "data = {'thing' : ['plant','tv','chair','table','pot'],\n",
    "        'colour' : ['yellow','red','blue','white','white'],\n",
    "        'weight' : [2.1,2.4,1.6,1.0,1.75],\n",
    "         'quantity' : [1,7,3,4,2]}\n",
    "\n",
    "frame = pd.DataFrame(data)\n",
    "print(frame)"
   ]
  }
 ],
 "metadata": {
  "anaconda-cloud": {},
  "kernelspec": {
   "display_name": "Python [Root]",
   "language": "python",
   "name": "Python [Root]"
  },
  "language_info": {
   "codemirror_mode": {
    "name": "ipython",
    "version": 3
   },
   "file_extension": ".py",
   "mimetype": "text/x-python",
   "name": "python",
   "nbconvert_exporter": "python",
   "pygments_lexer": "ipython3",
   "version": "3.5.2"
  }
 },
 "nbformat": 4,
 "nbformat_minor": 0
}
