{
 "cells": [
  {
   "cell_type": "markdown",
   "metadata": {},
   "source": [
    "# Working with Dates\n"
   ]
  },
  {
   "cell_type": "code",
   "execution_count": 4,
   "metadata": {
    "scrolled": true
   },
   "outputs": [
    {
     "name": "stdout",
     "output_type": "stream",
     "text": [
      "2020-05-22 21:21:24.391735\n"
     ]
    }
   ],
   "source": [
    "from datetime import datetime\n",
    "\n",
    "now = datetime.now()\n",
    "print(now)"
   ]
  },
  {
   "cell_type": "markdown",
   "metadata": {},
   "source": [
    "## Date and Time Without Timezone information\n"
   ]
  },
  {
   "cell_type": "code",
   "execution_count": 8,
   "metadata": {},
   "outputs": [
    {
     "name": "stdout",
     "output_type": "stream",
     "text": [
      "22\n",
      "4\n",
      "2020\n"
     ]
    }
   ],
   "source": [
    "import datetime\n",
    "d = datetime.date(2020,5,17)\n",
    "\n",
    "today_ = datetime.date.today()\n",
    "print(today_.day)\n",
    "print(today_.weekday())\n",
    "print(today_.year)"
   ]
  },
  {
   "cell_type": "markdown",
   "metadata": {},
   "source": [
    "## Time Deltas"
   ]
  },
  {
   "cell_type": "code",
   "execution_count": 9,
   "metadata": {},
   "outputs": [
    {
     "name": "stdout",
     "output_type": "stream",
     "text": [
      "2020-05-15\n"
     ]
    }
   ],
   "source": [
    "# similar to a timespan in C#\n",
    "tdelta = datetime.timedelta(days = 7)\n",
    "\n",
    "print(today_ - tdelta)\n",
    "\n",
    "# date - timedelta = date\n",
    "# date - date = timedelta"
   ]
  },
  {
   "cell_type": "code",
   "execution_count": 11,
   "metadata": {
    "scrolled": true
   },
   "outputs": [
    {
     "name": "stdout",
     "output_type": "stream",
     "text": [
      "2020-05-22 21:28:18.599761\n",
      "2020-05-22 21:28:18.599760\n",
      "2020-05-22 11:28:18.599760\n"
     ]
    }
   ],
   "source": [
    "# just a time\n",
    "t = datetime.time(10,20,10,100)\n",
    "# date and time\n",
    "dt = datetime.datetime(2020,5,17,12,30,45,10000)\n",
    "\n",
    "#Without Timezones\n",
    "dt_today = datetime.datetime.today() # no timezone\n",
    "dt_now = datetime.datetime.now() # can pass in a timezone\n",
    "dt_utcnow = datetime.datetime.utcnow() # not a timezone aware timezone,  tzinfo is null\n",
    "\n",
    "print(dt_today)\n",
    "print(dt_now)\n",
    "print(dt_utcnow)"
   ]
  },
  {
   "cell_type": "markdown",
   "metadata": {},
   "source": [
    "## Using Timezones\n",
    "\n",
    "- `pip install pytz`\n",
    "- Don't use the python default timezones\n",
    "- Use pytz library instead"
   ]
  },
  {
   "cell_type": "code",
   "execution_count": 13,
   "metadata": {},
   "outputs": [
    {
     "name": "stdout",
     "output_type": "stream",
     "text": [
      "2020-05-22 11:28:47.214718+00:00\n",
      "2020-05-22 11:28:47.214718+00:00\n",
      "2020-05-22 05:28:47.214718-06:00\n"
     ]
    }
   ],
   "source": [
    "import pytz\n",
    "\n",
    "dt_now = datetime.datetime.now(tz=pytz.UTC) \n",
    "dt_utcnow = datetime.datetime.utcnow().replace(tzinfo = pytz.UTC)\n",
    "dt_mtn = dt_utcnow.astimezone(pytz.timezone('US/Mountain'))\n",
    "\n",
    "print(dt_now)\n",
    "print(dt_utcnow)\n",
    "print(dt_mtn)"
   ]
  },
  {
   "cell_type": "code",
   "execution_count": null,
   "metadata": {},
   "outputs": [],
   "source": []
  }
 ],
 "metadata": {
  "kernelspec": {
   "display_name": "Python 3",
   "language": "python",
   "name": "python3"
  },
  "language_info": {
   "codemirror_mode": {
    "name": "ipython",
    "version": 3
   },
   "file_extension": ".py",
   "mimetype": "text/x-python",
   "name": "python",
   "nbconvert_exporter": "python",
   "pygments_lexer": "ipython3",
   "version": "3.7.4"
  }
 },
 "nbformat": 4,
 "nbformat_minor": 2
}
