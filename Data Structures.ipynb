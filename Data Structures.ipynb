{
 "cells": [
  {
   "cell_type": "markdown",
   "metadata": {},
   "source": [
    "## Lists\n",
    "\n",
    "- Mutable collection of values\n",
    "- passed by reference\n",
    "- can index negatively as well from the far end (first entry is always at -1 to avoid confusion with 0 based indexing)\n",
    "- Can use half range indexing :\n",
    "- List comprehension can be twice as fast as for loops"
   ]
  },
  {
   "cell_type": "code",
   "execution_count": 31,
   "metadata": {
    "collapsed": false
   },
   "outputs": [
    {
     "name": "stdout",
     "output_type": "stream",
     "text": [
      "[1, 9, 8, 4]\n",
      "[4]\n",
      "[1, 9, 8]\n",
      "[1, 9, 8, 4]\n",
      "[0, 2, 4, 6, 8, 10, 12, 14, 16, 18, 20, 22, 24, 26, 28, 30, 32, 34, 36, 38, 40, 42, 44, 46, 48, 50]\n",
      "[6]\n",
      "[4, 16, 36, 64, 100]\n"
     ]
    }
   ],
   "source": [
    "s =[1,9,8,] #allowed extra column\n",
    "s.append(4)\n",
    "print(s)\n",
    "\n",
    "# to copy from 3rd index to end\n",
    "print(s[3:])\n",
    "\n",
    "# to copy up to 3rd index\n",
    "print(s[:3])\n",
    "# to copy the whole list - is separate copy of pointers - items are still the same\n",
    "full_slice = s[:]\n",
    "print(full_slice)\n",
    "\n",
    "#equivalent to\n",
    "u = s.copy()\n",
    "\n",
    "# list comprehension for creating complicated lists\n",
    "evens_to_50 = [i for i in range(51) if i % 2 == 0]\n",
    "print(evens_to_50)\n",
    "\n",
    "doubles_by_3 = [x*2 for x in range(1,6) if (x*2) % 3 == 0]\n",
    "print(doubles_by_3)\n",
    "\n",
    "even_squares = [x**2 for x in range(1,11) if(x % 2 == 0)]\n",
    "print(even_squares)"
   ]
  },
  {
   "cell_type": "markdown",
   "metadata": {},
   "source": [
    "## Dictionaries\n",
    "\n",
    "- Mutable collections of keys to values"
   ]
  },
  {
   "cell_type": "code",
   "execution_count": 17,
   "metadata": {
    "collapsed": false
   },
   "outputs": [
    {
     "name": "stdout",
     "output_type": "stream",
     "text": [
      "{'bob': 12347, 'alice': 1234}\n",
      "['bob', 'alice']\n"
     ]
    }
   ],
   "source": [
    "d={'alice':1234, 'bob':12347}\n",
    "print(d)\n",
    "\n",
    "#check the alice key exists in d\n",
    "if not 'alice' in d:\n",
    "  print('its missing')\n",
    "\n",
    "keys = list(d.keys())\n",
    "print(keys)"
   ]
  },
  {
   "cell_type": "markdown",
   "metadata": {},
   "source": [
    "## Tuples\n",
    "\n",
    "- Can be added to each other using +\n",
    "- Immutable"
   ]
  },
  {
   "cell_type": "code",
   "execution_count": 9,
   "metadata": {
    "collapsed": false
   },
   "outputs": [
    {
     "name": "stdout",
     "output_type": "stream",
     "text": [
      "Something\n",
      "3 items\n",
      "Something\n",
      "7.5\n",
      "1\n",
      "min: 1 max: 4\n",
      "value 2 value 1\n"
     ]
    }
   ],
   "source": [
    "t = (\"Something\",7.5,1)\n",
    "# access by indices\n",
    "print(t[0])\n",
    "print(len(t) ,'items')\n",
    "\n",
    "# iterating using for\n",
    "for item in t:\n",
    "    print(item)\n",
    "\n",
    "#single element tuple requires a trailing comma\n",
    "k = (8,) \n",
    "\n",
    "#tuple unpacking\n",
    "\n",
    "def minmax(items):\n",
    "  return min(items), max(items)\n",
    "\n",
    "# returns a tuple behind the scenes\n",
    "lower, upper = minmax([1,2,3,4])  \n",
    "print('min:', lower, 'max:', upper)\n",
    "\n",
    "# for swapping 2 variables\n",
    "a = 'value 1'\n",
    "b = 'value 2'\n",
    "a,b = b,a\n",
    "print(a,b)"
   ]
  },
  {
   "cell_type": "markdown",
   "metadata": {},
   "source": [
    "## Sets\n",
    "\n",
    "- Useful for removing duplicates, isolating differences, equality tests without order being relevant"
   ]
  },
  {
   "cell_type": "code",
   "execution_count": 16,
   "metadata": {
    "collapsed": false
   },
   "outputs": [
    {
     "name": "stdout",
     "output_type": "stream",
     "text": [
      "Letters found in both something and blob = {'o'}\n",
      "All letters found in something and blob = {'o', 't', 'b', 'h', 'i', 'g', 'n', 'l', 's', 'm', 'e'}\n",
      "Letters only found in something not blob = {'t', 'g', 'h', 'i', 'n', 's', 'm', 'e'}\n",
      "{16, 1, 4, 9, 25}\n",
      "Filtering duplicates from 1, 2, 1, 3, 1 = [1, 2, 3]\n",
      "hello - the as sets = {'l', 'o'}\n",
      "hello = oleh as sets = True\n"
     ]
    }
   ],
   "source": [
    "X = set('something')\n",
    "Y = {'l','b','o','b'}\n",
    "\n",
    "print('Letters found in both something and blob =',X & Y) #intersection\n",
    "print('All letters found in something and blob =' ,X|Y) #union\n",
    "print('Letters only found in something not blob =',X-Y) # difference\n",
    "\n",
    "# sets produce values in random order (sets have no order)\n",
    "a = {n ** 2 for n in [1,2,3,4,5]}\n",
    "print(a)\n",
    "\n",
    "# Filtering out duplicates (possibly reordered)\n",
    "print('Filtering duplicates from 1, 2, 1, 3, 1 =', list(set([1, 2, 1, 3, 1])))      \n",
    "\n",
    "# Finding differences in collections\n",
    "print('hello - the as sets =', set('hello') - set('the'))  \n",
    "\n",
    "# Order-neutral equality tests (== is False)\n",
    "print('hello = oleh as sets =', set('oleh') == set('hello'))      \n"
   ]
  },
  {
   "cell_type": "markdown",
   "metadata": {},
   "source": [
    "## Sorting"
   ]
  },
  {
   "cell_type": "code",
   "execution_count": 25,
   "metadata": {
    "collapsed": false
   },
   "outputs": [
    {
     "name": "stdout",
     "output_type": "stream",
     "text": [
      "['a', 'b', 'm']\n",
      "['zap', 'Apple', 'pug', 'map', 'help', 'Pug'] sorted using sorted =  ['Apple', 'Pug', 'help', 'map', 'pug', 'zap']\n",
      "['zap', 'Apple', 'pug', 'map', 'help', 'Pug'] sorted using sorted in reverse =  ['zap', 'pug', 'map', 'help', 'Pug', 'Apple']\n",
      "['zap', 'Apple', 'pug', 'map', 'help', 'Pug'] sorted using sorted by length =  ['zap', 'pug', 'map', 'Pug', 'help', 'Apple']\n",
      "['zap', 'Apple', 'pug', 'map', 'help', 'Pug'] sorted using sorted by converting to lower =  ['Apple', 'help', 'map', 'pug', 'Pug', 'zap']\n",
      "['zap', 'Apple', 'pug', 'map', 'help', 'Pug'] sorted using sorted by converting to custom function =  ['Apple', 'pug', 'Pug', 'zap', 'map', 'help']\n"
     ]
    }
   ],
   "source": [
    "# Sorting of strings is case sensitive by default\n",
    "list1 = ['zap','Apple','pug','map','help','Pug']\n",
    "list = ['b','a','m']\n",
    "# to sort in place\n",
    "list.sort()\n",
    "print(list)\n",
    "\n",
    "# to sort a list - returns a new instance\n",
    "\n",
    "list = sorted(list1)\n",
    "print(list1, 'sorted using sorted = ', list)\n",
    "\n",
    "list = sorted(list1, reverse=True)\n",
    "print(list1, 'sorted using sorted in reverse = ', list)\n",
    "\n",
    "\n",
    "# sorting with a custom key\n",
    "list = sorted(list1, key=len)\n",
    "print(list1, 'sorted using sorted by length = ', list)\n",
    "\n",
    "list = sorted(list1, key=str.lower)\n",
    "print(list1, 'sorted using sorted by converting to lower = ', list)\n",
    "\n",
    "# can define a function to use for sorting\n",
    "# function returns the proxy value to sort on - not a comparer\n",
    "def sort_by_last_character(s):\n",
    "  return s[-1] # return the last character\n",
    "\n",
    "list = sorted(list1, key=sort_by_last_character)\n",
    "print(list1, 'sorted using sorted by converting to custom function = ', list)"
   ]
  }
 ],
 "metadata": {
  "anaconda-cloud": {},
  "kernelspec": {
   "display_name": "Python [Root]",
   "language": "python",
   "name": "Python [Root]"
  },
  "language_info": {
   "codemirror_mode": {
    "name": "ipython",
    "version": 3
   },
   "file_extension": ".py",
   "mimetype": "text/x-python",
   "name": "python",
   "nbconvert_exporter": "python",
   "pygments_lexer": "ipython3",
   "version": "3.5.2"
  }
 },
 "nbformat": 4,
 "nbformat_minor": 0
}
