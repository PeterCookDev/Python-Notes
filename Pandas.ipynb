{
 "cells": [
  {
   "cell_type": "markdown",
   "metadata": {},
   "source": [
    "## Pandas"
   ]
  },
  {
   "cell_type": "code",
   "execution_count": 2,
   "metadata": {
    "collapsed": true
   },
   "outputs": [],
   "source": [
    "import pandas as pd\n",
    "import numpy as np"
   ]
  },
  {
   "cell_type": "markdown",
   "metadata": {},
   "source": [
    "## Series\n",
    "\n",
    "- One dimensional sequence\n",
    "- Internally is composed of 2 array (1 for data, 1 for index)\n"
   ]
  },
  {
   "cell_type": "code",
   "execution_count": 3,
   "metadata": {
    "collapsed": false
   },
   "outputs": [
    {
     "name": "stdout",
     "output_type": "stream",
     "text": [
      "0    5\n",
      "1    6\n",
      "2    2\n",
      "3    1\n",
      "dtype: int64\n"
     ]
    }
   ],
   "source": [
    "series = pd.Series([5,6,2,1])\n",
    "print(series)"
   ]
  },
  {
   "cell_type": "code",
   "execution_count": 4,
   "metadata": {
    "collapsed": false
   },
   "outputs": [
    {
     "name": "stdout",
     "output_type": "stream",
     "text": [
      "first     5\n",
      "second    6\n",
      "third     6\n",
      "fourth    8\n",
      "dtype: int64\n",
      "Values  [5 6 6 8]\n",
      "Index  Index(['first', 'second', 'third', 'fourth'], dtype='object')\n",
      "Slice/Filter by index  first    5\n",
      "third    6\n",
      "dtype: int64\n"
     ]
    }
   ],
   "source": [
    "series = pd.Series([5,6,6,8], index=['first','second','third','fourth'])\n",
    "print(series)\n",
    "print('Values ',series.values)\n",
    "print('Index ',series.index)\n",
    "print('Slice/Filter by index ',series[['first','third']])"
   ]
  },
  {
   "cell_type": "code",
   "execution_count": 5,
   "metadata": {
    "collapsed": false
   },
   "outputs": [
    {
     "name": "stdout",
     "output_type": "stream",
     "text": [
      "first     10\n",
      "second     6\n",
      "third      6\n",
      "fourth     8\n",
      "dtype: int64\n",
      "Series > 6 first     10\n",
      "fourth     8\n",
      "dtype: int64\n"
     ]
    }
   ],
   "source": [
    "series['first'] = 10\n",
    "print(series)\n",
    "print('Series > 6', series[series > 6])"
   ]
  },
  {
   "cell_type": "markdown",
   "metadata": {},
   "source": [
    "**Counts of values**"
   ]
  },
  {
   "cell_type": "code",
   "execution_count": 6,
   "metadata": {
    "collapsed": false
   },
   "outputs": [
    {
     "data": {
      "text/plain": [
       "6     2\n",
       "10    1\n",
       "8     1\n",
       "dtype: int64"
      ]
     },
     "execution_count": 6,
     "metadata": {},
     "output_type": "execute_result"
    }
   ],
   "source": [
    "series.value_counts()"
   ]
  },
  {
   "cell_type": "markdown",
   "metadata": {},
   "source": [
    "**Adding series to other series**\n",
    "- Item with the same index values get added to each other.\n",
    "- Other values get set to NaN"
   ]
  },
  {
   "cell_type": "code",
   "execution_count": 7,
   "metadata": {
    "collapsed": false
   },
   "outputs": [
    {
     "name": "stdout",
     "output_type": "stream",
     "text": [
      "fifth      NaN\n",
      "first     11.0\n",
      "fourth     NaN\n",
      "second     8.0\n",
      "third      9.0\n",
      "dtype: float64\n"
     ]
    }
   ],
   "source": [
    "series2 = pd.Series([1,2,3,4], index=['first','second','third','fifth'])\n",
    "print(series + series2)"
   ]
  },
  {
   "cell_type": "markdown",
   "metadata": {},
   "source": [
    "**DateTime Indexes and Series**"
   ]
  },
  {
   "cell_type": "code",
   "execution_count": 11,
   "metadata": {
    "collapsed": false
   },
   "outputs": [
    {
     "name": "stdout",
     "output_type": "stream",
     "text": [
      "DatetimeIndex(['2001-01-01', '2001-01-02', '2001-01-03', '2001-01-04',\n",
      "               '2001-01-05', '2001-01-06', '2001-01-07', '2001-01-08',\n",
      "               '2001-01-09', '2001-01-10',\n",
      "               ...\n",
      "               '2001-12-22', '2001-12-23', '2001-12-24', '2001-12-25',\n",
      "               '2001-12-26', '2001-12-27', '2001-12-28', '2001-12-29',\n",
      "               '2001-12-30', '2001-12-31'],\n",
      "              dtype='datetime64[ns]', length=365, freq='D')\n",
      "2001-12-27    360\n",
      "2001-12-28    361\n",
      "2001-12-29    362\n",
      "2001-12-30    363\n",
      "2001-12-31    364\n",
      "Freq: D, dtype: int32\n"
     ]
    }
   ],
   "source": [
    "# creating a series that is 1 year long\n",
    "date_index = pd.date_range('20010101', periods=365, freq='D')\n",
    "print(date_index)\n",
    "\n",
    "# creating a series of integers, indexed by date3 = pd.Series(np.arange(365), index = date_index)\n",
    "print(series3.tail())"
   ]
  },
  {
   "cell_type": "markdown",
   "metadata": {},
   "source": [
    "## Dataframe\n",
    "\n",
    "**Basic Frame Operations**"
   ]
  },
  {
   "cell_type": "code",
   "execution_count": 16,
   "metadata": {
    "collapsed": false
   },
   "outputs": [
    {
     "name": "stdout",
     "output_type": "stream",
     "text": [
      "   colour  quantity  thing  weight\n",
      "0  yellow         1  plant    2.10\n",
      "1     red         7     tv    2.40\n",
      "2    blue         3  chair    1.60\n",
      "3   white         4  table    1.00\n",
      "4   white         2    pot    1.75\n",
      "Index - RangeIndex(start=0, stop=5, step=1)\n",
      "Columns - Index(['colour', 'quantity', 'thing', 'weight'], dtype='object')\n",
      "colour - 0    yellow\n",
      "1       red\n",
      "2      blue\n",
      "3     white\n",
      "4     white\n",
      "Name: colour, dtype: object\n",
      "dtypes - colour       object\n",
      "quantity      int64\n",
      "thing        object\n",
      "weight      float64\n",
      "dtype: object\n",
      "values - [['yellow' 1 'plant' 2.1]\n",
      " ['red' 7 'tv' 2.4]\n",
      " ['blue' 3 'chair' 1.6]\n",
      " ['white' 4 'table' 1.0]\n",
      " ['white' 2 'pot' 1.75]]\n",
      "       quantity    weight\n",
      "count  5.000000  5.000000\n",
      "mean   3.400000  1.770000\n",
      "std    2.302173  0.531037\n",
      "min    1.000000  1.000000\n",
      "25%    2.000000  1.600000\n",
      "50%    3.000000  1.750000\n",
      "75%    4.000000  2.100000\n",
      "max    7.000000  2.400000\n"
     ]
    }
   ],
   "source": [
    "data = {'thing' : ['plant','tv','chair','table','pot'],\n",
    "        'colour' : ['yellow','red','blue','white','white'],\n",
    "        'weight' : [2.1,2.4,1.6,1.0,1.75],\n",
    "         'quantity' : [1,7,3,4,2]}\n",
    "\n",
    "frame = pd.DataFrame(data)\n",
    "print(frame)\n",
    "print('Index -',frame.index)\n",
    "print('Columns -',frame.columns)\n",
    "print('colour -', frame.colour)\n",
    "print('dtypes -',frame.dtypes)\n",
    "print('values -',frame.values)"
   ]
  },
  {
   "cell_type": "code",
   "execution_count": 13,
   "metadata": {
    "collapsed": false
   },
   "outputs": [
    {
     "name": "stdout",
     "output_type": "stream",
     "text": [
      "head - first 5 rows -    colour  quantity  thing  weight\n",
      "0  yellow         1  plant    2.10\n",
      "1     red         7     tv    2.40\n",
      "2    blue         3  chair    1.60\n",
      "3   white         4  table    1.00\n",
      "4   white         2    pot    1.75\n",
      "tail - last 2 rows -   colour  quantity  thing  weight\n",
      "3  white         4  table    1.00\n",
      "4  white         2    pot    1.75\n"
     ]
    }
   ],
   "source": [
    "print('head - first 5 rows -', frame.head())\n",
    "print('tail - last 2 rows -', frame.tail(2))"
   ]
  },
  {
   "cell_type": "markdown",
   "metadata": {},
   "source": [
    "**Getting the values of a column/row**"
   ]
  },
  {
   "cell_type": "code",
   "execution_count": 12,
   "metadata": {
    "collapsed": false
   },
   "outputs": [
    {
     "name": "stdout",
     "output_type": "stream",
     "text": [
      "0    yellow\n",
      "1       red\n",
      "2      blue\n",
      "3     white\n",
      "4     white\n",
      "Name: colour, dtype: object\n",
      "1      red\n",
      "2     blue\n",
      "3    white\n",
      "Name: colour, dtype: object\n",
      "1      red\n",
      "2     blue\n",
      "3    white\n",
      "Name: colour, dtype: object\n",
      "   colour  quantity\n",
      "0  yellow         1\n",
      "1     red         7\n",
      "2    blue         3\n",
      "3   white         4\n",
      "4   white         2\n"
     ]
    }
   ],
   "source": [
    "print(frame.colour)\n",
    "print(frame[1:4].colour)\n",
    "print(frame['colour'][1:4])\n",
    "# Select multiple columns from the dataframe\n",
    "print(frame[['colour','quantity']])"
   ]
  },
  {
   "cell_type": "markdown",
   "metadata": {},
   "source": [
    "**Counts of values**"
   ]
  },
  {
   "cell_type": "code",
   "execution_count": 13,
   "metadata": {
    "collapsed": false
   },
   "outputs": [
    {
     "name": "stdout",
     "output_type": "stream",
     "text": [
      "white    2\n",
      "blue     1\n",
      "Name: colour, dtype: int64\n"
     ]
    }
   ],
   "source": [
    "counts = frame['colour'].value_counts()\n",
    "print(counts[:2])"
   ]
  },
  {
   "cell_type": "markdown",
   "metadata": {},
   "source": [
    "**Editing the values in the data frame**"
   ]
  },
  {
   "cell_type": "code",
   "execution_count": 14,
   "metadata": {
    "collapsed": false
   },
   "outputs": [
    {
     "name": "stdout",
     "output_type": "stream",
     "text": [
      "   colour  quantity  thing  weight\n",
      "0  yellow         1  plant    2.10\n",
      "1     red         2     tv    2.40\n",
      "2    blue         3  chair    1.60\n",
      "3   white         4  table    1.00\n",
      "4   white         2    pot    1.75\n"
     ]
    },
    {
     "name": "stderr",
     "output_type": "stream",
     "text": [
      "C:\\Users\\Peter\\Anaconda3\\lib\\site-packages\\ipykernel\\__main__.py:1: SettingWithCopyWarning: \n",
      "A value is trying to be set on a copy of a slice from a DataFrame\n",
      "\n",
      "See the caveats in the documentation: http://pandas.pydata.org/pandas-docs/stable/indexing.html#indexing-view-versus-copy\n",
      "  if __name__ == '__main__':\n"
     ]
    }
   ],
   "source": [
    "frame['quantity'][1] =2\n",
    "print(frame)"
   ]
  },
  {
   "cell_type": "markdown",
   "metadata": {},
   "source": [
    "**Adding columns to the frame**"
   ]
  },
  {
   "cell_type": "code",
   "execution_count": 15,
   "metadata": {
    "collapsed": false
   },
   "outputs": [
    {
     "name": "stdout",
     "output_type": "stream",
     "text": [
      "   colour  quantity  thing  weight size\n",
      "0  yellow         1  plant    2.10    S\n",
      "1     red         2     tv    2.40    S\n",
      "2    blue         3  chair    1.60    L\n",
      "3   white         4  table    1.00    M\n",
      "4   white         2    pot    1.75   XL\n"
     ]
    }
   ],
   "source": [
    "frame['size']=['S','S','L','M','XL']\n",
    "print(frame)"
   ]
  },
  {
   "cell_type": "markdown",
   "metadata": {},
   "source": [
    "**Deleting columns**"
   ]
  },
  {
   "cell_type": "code",
   "execution_count": 16,
   "metadata": {
    "collapsed": false
   },
   "outputs": [
    {
     "name": "stdout",
     "output_type": "stream",
     "text": [
      "   colour  quantity  thing  weight\n",
      "0  yellow         1  plant    2.10\n",
      "1     red         2     tv    2.40\n",
      "2    blue         3  chair    1.60\n",
      "3   white         4  table    1.00\n",
      "4   white         2    pot    1.75\n"
     ]
    }
   ],
   "source": [
    "del frame['size']\n",
    "print(frame)"
   ]
  },
  {
   "cell_type": "markdown",
   "metadata": {},
   "source": [
    "**Filtering**\n",
    "- Dataframe passed in as slice returns true or false for each row\n",
    "- Only true rows are returned\n",
    "- Combine them using & symbol"
   ]
  },
  {
   "cell_type": "code",
   "execution_count": 17,
   "metadata": {
    "collapsed": false
   },
   "outputs": [
    {
     "name": "stdout",
     "output_type": "stream",
     "text": [
      "  colour  quantity  thing  weight\n",
      "3  white         4  table    1.00\n",
      "4  white         2    pot    1.75\n",
      "   quantity thing\n",
      "4         2   pot\n"
     ]
    }
   ],
   "source": [
    "print(frame[frame.colour =='white'])\n",
    "white = frame.colour == 'white'\n",
    "pot = frame.thing == 'pot'\n",
    "# combine filters and then only select certain columns\n",
    "print(frame[white & pot][['quantity','thing']])"
   ]
  },
  {
   "cell_type": "markdown",
   "metadata": {},
   "source": [
    "**Strings**"
   ]
  },
  {
   "cell_type": "code",
   "execution_count": 22,
   "metadata": {
    "collapsed": false
   },
   "outputs": [
    {
     "data": {
      "text/plain": [
       "0    True\n",
       "1    True\n",
       "2    True\n",
       "3    True\n",
       "4    True\n",
       "Name: colour, dtype: bool"
      ]
     },
     "execution_count": 22,
     "metadata": {},
     "output_type": "execute_result"
    }
   ],
   "source": [
    "frame['colour'].str.contains('e')"
   ]
  },
  {
   "cell_type": "markdown",
   "metadata": {},
   "source": [
    "**Exploring data**\n",
    "\n",
    "- Finding unique values in a column - look for nan"
   ]
  },
  {
   "cell_type": "code",
   "execution_count": 24,
   "metadata": {
    "collapsed": false
   },
   "outputs": [
    {
     "data": {
      "text/plain": [
       "array(['yellow', 'red', 'blue', 'white'], dtype=object)"
      ]
     },
     "execution_count": 24,
     "metadata": {},
     "output_type": "execute_result"
    }
   ],
   "source": [
    "frame['colour'].unique()"
   ]
  },
  {
   "cell_type": "code",
   "execution_count": 17,
   "metadata": {
    "collapsed": false
   },
   "outputs": [
    {
     "data": {
      "text/html": [
       "<div>\n",
       "<table border=\"1\" class=\"dataframe\">\n",
       "  <thead>\n",
       "    <tr style=\"text-align: right;\">\n",
       "      <th></th>\n",
       "      <th>quantity</th>\n",
       "      <th>weight</th>\n",
       "    </tr>\n",
       "  </thead>\n",
       "  <tbody>\n",
       "    <tr>\n",
       "      <th>count</th>\n",
       "      <td>5.000000</td>\n",
       "      <td>5.000000</td>\n",
       "    </tr>\n",
       "    <tr>\n",
       "      <th>mean</th>\n",
       "      <td>3.400000</td>\n",
       "      <td>1.770000</td>\n",
       "    </tr>\n",
       "    <tr>\n",
       "      <th>std</th>\n",
       "      <td>2.302173</td>\n",
       "      <td>0.531037</td>\n",
       "    </tr>\n",
       "    <tr>\n",
       "      <th>min</th>\n",
       "      <td>1.000000</td>\n",
       "      <td>1.000000</td>\n",
       "    </tr>\n",
       "    <tr>\n",
       "      <th>25%</th>\n",
       "      <td>2.000000</td>\n",
       "      <td>1.600000</td>\n",
       "    </tr>\n",
       "    <tr>\n",
       "      <th>50%</th>\n",
       "      <td>3.000000</td>\n",
       "      <td>1.750000</td>\n",
       "    </tr>\n",
       "    <tr>\n",
       "      <th>75%</th>\n",
       "      <td>4.000000</td>\n",
       "      <td>2.100000</td>\n",
       "    </tr>\n",
       "    <tr>\n",
       "      <th>max</th>\n",
       "      <td>7.000000</td>\n",
       "      <td>2.400000</td>\n",
       "    </tr>\n",
       "  </tbody>\n",
       "</table>\n",
       "</div>"
      ],
      "text/plain": [
       "       quantity    weight\n",
       "count  5.000000  5.000000\n",
       "mean   3.400000  1.770000\n",
       "std    2.302173  0.531037\n",
       "min    1.000000  1.000000\n",
       "25%    2.000000  1.600000\n",
       "50%    3.000000  1.750000\n",
       "75%    4.000000  2.100000\n",
       "max    7.000000  2.400000"
      ]
     },
     "execution_count": 17,
     "metadata": {},
     "output_type": "execute_result"
    }
   ],
   "source": [
    "# Prints statistics about the columns in the dataframe\n",
    "frame.describe()"
   ]
  },
  {
   "cell_type": "markdown",
   "metadata": {},
   "source": [
    "**Sorting**"
   ]
  },
  {
   "cell_type": "code",
   "execution_count": 18,
   "metadata": {
    "collapsed": false
   },
   "outputs": [
    {
     "data": {
      "text/html": [
       "<div>\n",
       "<table border=\"1\" class=\"dataframe\">\n",
       "  <thead>\n",
       "    <tr style=\"text-align: right;\">\n",
       "      <th></th>\n",
       "      <th>colour</th>\n",
       "      <th>quantity</th>\n",
       "      <th>thing</th>\n",
       "      <th>weight</th>\n",
       "    </tr>\n",
       "  </thead>\n",
       "  <tbody>\n",
       "    <tr>\n",
       "      <th>1</th>\n",
       "      <td>red</td>\n",
       "      <td>7</td>\n",
       "      <td>tv</td>\n",
       "      <td>2.40</td>\n",
       "    </tr>\n",
       "    <tr>\n",
       "      <th>0</th>\n",
       "      <td>yellow</td>\n",
       "      <td>1</td>\n",
       "      <td>plant</td>\n",
       "      <td>2.10</td>\n",
       "    </tr>\n",
       "    <tr>\n",
       "      <th>4</th>\n",
       "      <td>white</td>\n",
       "      <td>2</td>\n",
       "      <td>pot</td>\n",
       "      <td>1.75</td>\n",
       "    </tr>\n",
       "    <tr>\n",
       "      <th>2</th>\n",
       "      <td>blue</td>\n",
       "      <td>3</td>\n",
       "      <td>chair</td>\n",
       "      <td>1.60</td>\n",
       "    </tr>\n",
       "    <tr>\n",
       "      <th>3</th>\n",
       "      <td>white</td>\n",
       "      <td>4</td>\n",
       "      <td>table</td>\n",
       "      <td>1.00</td>\n",
       "    </tr>\n",
       "  </tbody>\n",
       "</table>\n",
       "</div>"
      ],
      "text/plain": [
       "   colour  quantity  thing  weight\n",
       "1     red         7     tv    2.40\n",
       "0  yellow         1  plant    2.10\n",
       "4   white         2    pot    1.75\n",
       "2    blue         3  chair    1.60\n",
       "3   white         4  table    1.00"
      ]
     },
     "execution_count": 18,
     "metadata": {},
     "output_type": "execute_result"
    }
   ],
   "source": [
    "frame.sort_values(by='weight', ascending=False)"
   ]
  },
  {
   "cell_type": "code",
   "execution_count": 21,
   "metadata": {
    "collapsed": false
   },
   "outputs": [
    {
     "data": {
      "text/html": [
       "<div>\n",
       "<table border=\"1\" class=\"dataframe\">\n",
       "  <thead>\n",
       "    <tr style=\"text-align: right;\">\n",
       "      <th></th>\n",
       "      <th>colour</th>\n",
       "      <th>quantity</th>\n",
       "      <th>thing</th>\n",
       "      <th>weight</th>\n",
       "    </tr>\n",
       "  </thead>\n",
       "  <tbody>\n",
       "    <tr>\n",
       "      <th>4</th>\n",
       "      <td>white</td>\n",
       "      <td>2</td>\n",
       "      <td>pot</td>\n",
       "      <td>1.75</td>\n",
       "    </tr>\n",
       "    <tr>\n",
       "      <th>3</th>\n",
       "      <td>white</td>\n",
       "      <td>4</td>\n",
       "      <td>table</td>\n",
       "      <td>1.00</td>\n",
       "    </tr>\n",
       "    <tr>\n",
       "      <th>2</th>\n",
       "      <td>blue</td>\n",
       "      <td>3</td>\n",
       "      <td>chair</td>\n",
       "      <td>1.60</td>\n",
       "    </tr>\n",
       "    <tr>\n",
       "      <th>1</th>\n",
       "      <td>red</td>\n",
       "      <td>7</td>\n",
       "      <td>tv</td>\n",
       "      <td>2.40</td>\n",
       "    </tr>\n",
       "    <tr>\n",
       "      <th>0</th>\n",
       "      <td>yellow</td>\n",
       "      <td>1</td>\n",
       "      <td>plant</td>\n",
       "      <td>2.10</td>\n",
       "    </tr>\n",
       "  </tbody>\n",
       "</table>\n",
       "</div>"
      ],
      "text/plain": [
       "   colour  quantity  thing  weight\n",
       "4   white         2    pot    1.75\n",
       "3   white         4  table    1.00\n",
       "2    blue         3  chair    1.60\n",
       "1     red         7     tv    2.40\n",
       "0  yellow         1  plant    2.10"
      ]
     },
     "execution_count": 21,
     "metadata": {},
     "output_type": "execute_result"
    }
   ],
   "source": [
    "frame.sort_index(axis=0, ascending=False)"
   ]
  }
 ],
 "metadata": {
  "anaconda-cloud": {},
  "kernelspec": {
   "display_name": "Python [Root]",
   "language": "python",
   "name": "Python [Root]"
  },
  "language_info": {
   "codemirror_mode": {
    "name": "ipython",
    "version": 3
   },
   "file_extension": ".py",
   "mimetype": "text/x-python",
   "name": "python",
   "nbconvert_exporter": "python",
   "pygments_lexer": "ipython3",
   "version": "3.5.2"
  }
 },
 "nbformat": 4,
 "nbformat_minor": 0
}
