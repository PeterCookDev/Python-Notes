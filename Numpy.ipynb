{
 "cells": [
  {
   "cell_type": "markdown",
   "metadata": {},
   "source": [
    "## Numpy\n",
    "\n",
    "- Provides n-dimensional arrays (ndarray) or numpy.array\n",
    "- Dimensions = axes\n",
    "- Number of axes = rank\n",
    "- Unlike normal arrays most methods change things in place"
   ]
  },
  {
   "cell_type": "code",
   "execution_count": 5,
   "metadata": {
    "collapsed": false
   },
   "outputs": [
    {
     "name": "stdout",
     "output_type": "stream",
     "text": [
      "[[ 0  1  2  3  4]\n",
      " [ 5  6  7  8  9]\n",
      " [10 11 12 13 14]]\n",
      "Dimensions of the array - (3, 5)\n",
      "Data type in the array - int32\n",
      "Total items in array - 15\n"
     ]
    }
   ],
   "source": [
    "import numpy as np\n",
    "\n",
    "a = np.arange(15).reshape(3,5)\n",
    "print(a)\n",
    "print('Dimensions of the array -', a.shape)\n",
    "print('Data type in the array -', a.dtype)\n",
    "print('Total items in array -', a.size)"
   ]
  },
  {
   "cell_type": "markdown",
   "metadata": {},
   "source": [
    "### Creation\n",
    "\n",
    "- Can Create from lists or tuples"
   ]
  },
  {
   "cell_type": "code",
   "execution_count": 6,
   "metadata": {
    "collapsed": false
   },
   "outputs": [
    {
     "name": "stdout",
     "output_type": "stream",
     "text": [
      "[ 2.1  3.2  4.3]\n"
     ]
    }
   ],
   "source": [
    "a = np.array([2.1,3.2,4.3])\n",
    "print(a)"
   ]
  },
  {
   "cell_type": "code",
   "execution_count": 8,
   "metadata": {
    "collapsed": false
   },
   "outputs": [
    {
     "name": "stdout",
     "output_type": "stream",
     "text": [
      "[[ 0.  0.  0.  0.]\n",
      " [ 0.  0.  0.  0.]\n",
      " [ 0.  0.  0.  0.]]\n",
      "[ 1.  1.  1.  1.  1.]\n"
     ]
    }
   ],
   "source": [
    "a = np.zeros((3,4))\n",
    "print(a)\n",
    "b = np.ones(5)\n",
    "print(b)"
   ]
  },
  {
   "cell_type": "markdown",
   "metadata": {},
   "source": [
    "- Creating sequences of numbers \n",
    "- use arange \n",
    "    - with floating point step size precision makes predicting number of items not possible generally\n",
    "- use linspace for floating point numbers to split up range into a number of items"
   ]
  },
  {
   "cell_type": "code",
   "execution_count": 13,
   "metadata": {
    "collapsed": false
   },
   "outputs": [
    {
     "name": "stdout",
     "output_type": "stream",
     "text": [
      "[ 0.   2.5  5.   7.5]\n",
      "[ 0.    0.25  0.5   0.75  1.    1.25  1.5   1.75  2.  ]\n"
     ]
    }
   ],
   "source": [
    "# from, max value (not inclusive), step size\n",
    "print(np.arange(0, 10, 2.5))\n",
    "\n",
    "# from, max value (inclusive), number of items to split into\n",
    "print(np.linspace(0,2,9))"
   ]
  },
  {
   "cell_type": "markdown",
   "metadata": {},
   "source": [
    "### Reshaping Arrays\n",
    "\n",
    "- Use reshape(new dimensions)\n",
    "    - Changes the shape without changing the data\n",
    "- To make it a single dimension use np.ravel(a)"
   ]
  },
  {
   "cell_type": "markdown",
   "metadata": {},
   "source": [
    "### Arithmetic Operations\n",
    "\n",
    "- Applied elementwise\n",
    "- New array is created"
   ]
  },
  {
   "cell_type": "code",
   "execution_count": 25,
   "metadata": {
    "collapsed": false
   },
   "outputs": [
    {
     "name": "stdout",
     "output_type": "stream",
     "text": [
      "[20 29 38 47]\n",
      "[ 400  900 1600 2500]\n",
      "[ True False False False]\n",
      "Multiplication using * - [[ 5 15]\n",
      " [ 6 24]]\n",
      "Matrix product - [[14 37]\n",
      " [20 34]]\n",
      "Matrix product - [[15 33]\n",
      " [23 33]]\n"
     ]
    }
   ],
   "source": [
    "a = np.array( [20,30,40,50] )\n",
    "b = np.arange(4)\n",
    "\n",
    "# applied elementwise\n",
    "c = a - b\n",
    "print(c)\n",
    "\n",
    "# elementwise squaring \n",
    "print(a **2)\n",
    "\n",
    "# comparison is elementwise\n",
    "print(a < 25)\n",
    "\n",
    "# * operator = elementwise multiplication not \n",
    "# matrix product (use .dot for matrix product)\n",
    "A = np.array([[1,5],[3,4]])\n",
    "B = np.array([[5,3],[2,6]])\n",
    "\n",
    "print('Multiplication using * -', A * B)\n",
    "\n",
    "# Not A.B not commutative with B.A\n",
    "print('Matrix product -', B.dot(A))\n",
    "print('Matrix product -', A.dot(B))\n"
   ]
  }
 ],
 "metadata": {
  "kernelspec": {
   "display_name": "Python [Root]",
   "language": "python",
   "name": "Python [Root]"
  },
  "language_info": {
   "codemirror_mode": {
    "name": "ipython",
    "version": 3
   },
   "file_extension": ".py",
   "mimetype": "text/x-python",
   "name": "python",
   "nbconvert_exporter": "python",
   "pygments_lexer": "ipython3",
   "version": "3.5.2"
  }
 },
 "nbformat": 4,
 "nbformat_minor": 0
}
