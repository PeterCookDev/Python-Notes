{
 "cells": [
  {
   "cell_type": "markdown",
   "metadata": {},
   "source": [
    "## Strings\n",
    "\n",
    "  - uses single quotes or double quotes\n",
    "  - uses + for concatenation\n",
    "  - immutable - lots of concatenation can slow down applications\n",
    "  - variable to string via `str(variable)`\n",
    "  - homogeneous immutable sequences to unicode codepoints\n",
    "  - multiline strings delimited with 3 quote chars\n",
    "  - Can embed control codes like `\\n`\n",
    "  - use r'string' to create a raw string like `@string` in .net\n",
    "  - split string into 3 pieces - before partition, partition and after partition variableName.partition(\"key to partition on\")"
   ]
  },
  {
   "cell_type": "markdown",
   "metadata": {},
   "source": [
    "## Slicers"
   ]
  },
  {
   "cell_type": "code",
   "execution_count": 2,
   "metadata": {},
   "outputs": [
    {
     "name": "stdout",
     "output_type": "stream",
     "text": [
      "ibble\n",
      "e\n",
      "ib\n",
      "wibbl\n",
      "wib\n"
     ]
    }
   ],
   "source": [
    "s = 'wibble'\n",
    "print(s[1:]) \n",
    "print(s[-1]) \n",
    "print(s[1:3]) \n",
    "print(s[:-1]) \n",
    "print(s[:3])"
   ]
  }
 ],
 "metadata": {
  "kernelspec": {
   "display_name": "Python 3",
   "language": "python",
   "name": "python3"
  },
  "language_info": {
   "codemirror_mode": {
    "name": "ipython",
    "version": 3
   },
   "file_extension": ".py",
   "mimetype": "text/x-python",
   "name": "python",
   "nbconvert_exporter": "python",
   "pygments_lexer": "ipython3",
   "version": "3.7.4"
  }
 },
 "nbformat": 4,
 "nbformat_minor": 1
}
