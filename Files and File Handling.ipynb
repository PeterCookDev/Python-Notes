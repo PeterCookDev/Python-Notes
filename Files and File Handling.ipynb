{
 "cells": [
  {
   "cell_type": "markdown",
   "metadata": {},
   "source": [
    "## Directories"
   ]
  },
  {
   "cell_type": "code",
   "execution_count": 1,
   "metadata": {
    "collapsed": false
   },
   "outputs": [
    {
     "name": "stdout",
     "output_type": "stream",
     "text": [
      "C:\\Github\\Python-Notes\n"
     ]
    }
   ],
   "source": [
    "import os\n",
    "\n",
    "# Get the current working directory for execution\n",
    "currentWorkingDirectory = os.getcwd()\n",
    "print(currentWorkingDirectory)"
   ]
  },
  {
   "cell_type": "code",
   "execution_count": 2,
   "metadata": {
    "collapsed": false
   },
   "outputs": [
    {
     "name": "stdout",
     "output_type": "stream",
     "text": [
      "['.ipynb_checkpoints', 'Images', 'pathToCreate', 'Sort', 'YTList.zip']\n"
     ]
    }
   ],
   "source": [
    "# Working With Directories\n",
    "path = 'c:/temp'\n",
    "path_to_create = 'pathToCreate'\n",
    "\n",
    "os.chdir(path) # changing directory\n",
    "if os.path.exists(path_to_create) and os.path.isdir(path_to_create): # path or filename exists\n",
    "    os.rmdir(path_to_create) # delete a folder\n",
    "    \n",
    "os.makedirs(path_to_create) # making a new folder\n",
    "\n",
    "print(os.listdir(path)) # get all the files and folders in a path"
   ]
  }
 ],
 "metadata": {
  "kernelspec": {
   "display_name": "Python [Root]",
   "language": "python",
   "name": "Python [Root]"
  },
  "language_info": {
   "codemirror_mode": {
    "name": "ipython",
    "version": 3
   },
   "file_extension": ".py",
   "mimetype": "text/x-python",
   "name": "python",
   "nbconvert_exporter": "python",
   "pygments_lexer": "ipython3",
   "version": "3.5.2"
  }
 },
 "nbformat": 4,
 "nbformat_minor": 0
}
