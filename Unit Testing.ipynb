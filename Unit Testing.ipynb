{
 "cells": [
  {
   "cell_type": "code",
   "execution_count": 5,
   "metadata": {
    "collapsed": true
   },
   "outputs": [],
   "source": [
    "import unittest\n",
    "\n",
    "class TestingClass(unittest.TestCase):\n",
    "\n",
    "  def test_Name(self):\n",
    "    self.assertEqual()\n",
    "    self.assertTrue()\n",
    "    self.assertFalse()\n",
    "    self.assertRaises()\n",
    "    print('passed')\n",
    "\n",
    "  def setup():\n",
    "    pass\n",
    "\n",
    "  def tearDown():\n",
    "    pass"
   ]
  }
 ],
 "metadata": {
  "kernelspec": {
   "display_name": "Python [Root]",
   "language": "python",
   "name": "Python [Root]"
  },
  "language_info": {
   "codemirror_mode": {
    "name": "ipython",
    "version": 3
   },
   "file_extension": ".py",
   "mimetype": "text/x-python",
   "name": "python",
   "nbconvert_exporter": "python",
   "pygments_lexer": "ipython3",
   "version": "3.5.2"
  }
 },
 "nbformat": 4,
 "nbformat_minor": 0
}
